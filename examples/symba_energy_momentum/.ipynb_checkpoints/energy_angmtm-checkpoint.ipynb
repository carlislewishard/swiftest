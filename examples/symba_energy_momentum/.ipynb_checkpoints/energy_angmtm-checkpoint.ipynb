{
 "cells": [
  {
   "cell_type": "code",
   "execution_count": 1,
   "metadata": {},
   "outputs": [],
   "source": [
    "import numpy as np\n",
    "import pandas as pd"
   ]
  },
  {
   "cell_type": "code",
   "execution_count": 2,
   "metadata": {},
   "outputs": [],
   "source": [
    "egy = pd.read_csv(\"energy.out\")"
   ]
  },
  {
   "cell_type": "code",
   "execution_count": 3,
   "metadata": {},
   "outputs": [],
   "source": [
    "egy['Ltot'] = np.sqrt(egy['Lx']**2 + egy['Ly']**2 + egy['Lz']**2)\n",
    "egy['Etot'] = egy['Eorbit'] + egy['Ecollisions']\n",
    "egy['(Eorbit - E0)/E0'] = (egy['Eorbit'] - egy['Eorbit'][0]) / np.abs(egy['Eorbit'][0])\n",
    "egy['(Etot - E0)/|E0|'] = (egy['Etot'] - egy['Eorbit'][0]) / np.abs(egy['Eorbit'][0])\n",
    "egy['|(L - L0)/L0|'] = np.abs((egy['Ltot'] - egy['Ltot'][0]) / egy['Ltot'])\n",
    "egy['|(M - M0)/M0|'] = np.abs((egy['Mtot'] - egy['Mtot'][0]) / egy['Mtot'])\n"
   ]
  },
  {
   "cell_type": "code",
   "execution_count": 4,
   "metadata": {},
   "outputs": [
    {
     "data": {
      "text/plain": [
       "0        0.00\n",
       "1    20875.25\n",
       "Name: Ltot, dtype: float64"
      ]
     },
     "execution_count": 4,
     "metadata": {},
     "output_type": "execute_result"
    }
   ],
   "source": [
    "egy['Ltot'] - egy['Ltot'][0]"
   ]
  },
  {
   "cell_type": "code",
   "execution_count": 5,
   "metadata": {},
   "outputs": [
    {
     "data": {
      "text/plain": [
       "(0     0.000000\n",
       " 1   -24.767944\n",
       " Name: Lx, dtype: float64,\n",
       " 0     0.000000\n",
       " 1   -15.159668\n",
       " Name: Ly, dtype: float64,\n",
       " 0        0.0\n",
       " 1    20875.5\n",
       " Name: Lz, dtype: float64)"
      ]
     },
     "execution_count": 5,
     "metadata": {},
     "output_type": "execute_result"
    }
   ],
   "source": [
    "egy['Lx'] - egy['Lx'][0], egy['Ly'] - egy['Ly'][0], egy['Lz'] - egy['Lz'][0]"
   ]
  },
  {
   "cell_type": "code",
   "execution_count": 6,
   "metadata": {},
   "outputs": [
    {
     "data": {
      "text/html": [
       "<div>\n",
       "<style scoped>\n",
       "    .dataframe tbody tr th:only-of-type {\n",
       "        vertical-align: middle;\n",
       "    }\n",
       "\n",
       "    .dataframe tbody tr th {\n",
       "        vertical-align: top;\n",
       "    }\n",
       "\n",
       "    .dataframe thead th {\n",
       "        text-align: right;\n",
       "    }\n",
       "</style>\n",
       "<table border=\"1\" class=\"dataframe\">\n",
       "  <thead>\n",
       "    <tr style=\"text-align: right;\">\n",
       "      <th></th>\n",
       "      <th>t</th>\n",
       "      <th>Eorbit</th>\n",
       "      <th>Ecollisions</th>\n",
       "      <th>Lx</th>\n",
       "      <th>Ly</th>\n",
       "      <th>Lz</th>\n",
       "      <th>Mtot</th>\n",
       "      <th>Ltot</th>\n",
       "      <th>Etot</th>\n",
       "      <th>(Eorbit - E0)/E0</th>\n",
       "      <th>(Etot - E0)/|E0|</th>\n",
       "      <th>|(L - L0)/L0|</th>\n",
       "      <th>|(M - M0)/M0|</th>\n",
       "    </tr>\n",
       "  </thead>\n",
       "  <tbody>\n",
       "    <tr>\n",
       "      <th>0</th>\n",
       "      <td>0.00</td>\n",
       "      <td>-3.828052e+11</td>\n",
       "      <td>0.000000e+00</td>\n",
       "      <td>-3.169967e+11</td>\n",
       "      <td>-1.180161e+12</td>\n",
       "      <td>1.894884e+15</td>\n",
       "      <td>4.283887e+13</td>\n",
       "      <td>1.894884e+15</td>\n",
       "      <td>-3.828052e+11</td>\n",
       "      <td>0.000000</td>\n",
       "      <td>0.000000e+00</td>\n",
       "      <td>0.000000e+00</td>\n",
       "      <td>0.0</td>\n",
       "    </tr>\n",
       "    <tr>\n",
       "      <th>1</th>\n",
       "      <td>0.01</td>\n",
       "      <td>-2.095140e+11</td>\n",
       "      <td>-1.732912e+11</td>\n",
       "      <td>-3.169967e+11</td>\n",
       "      <td>-1.180161e+12</td>\n",
       "      <td>1.894884e+15</td>\n",
       "      <td>4.283887e+13</td>\n",
       "      <td>1.894884e+15</td>\n",
       "      <td>-3.828052e+11</td>\n",
       "      <td>0.452688</td>\n",
       "      <td>4.783255e-16</td>\n",
       "      <td>1.101664e-11</td>\n",
       "      <td>0.0</td>\n",
       "    </tr>\n",
       "  </tbody>\n",
       "</table>\n",
       "</div>"
      ],
      "text/plain": [
       "      t        Eorbit   Ecollisions            Lx            Ly            Lz  \\\n",
       "0  0.00 -3.828052e+11  0.000000e+00 -3.169967e+11 -1.180161e+12  1.894884e+15   \n",
       "1  0.01 -2.095140e+11 -1.732912e+11 -3.169967e+11 -1.180161e+12  1.894884e+15   \n",
       "\n",
       "           Mtot          Ltot          Etot  (Eorbit - E0)/E0  \\\n",
       "0  4.283887e+13  1.894884e+15 -3.828052e+11          0.000000   \n",
       "1  4.283887e+13  1.894884e+15 -3.828052e+11          0.452688   \n",
       "\n",
       "   (Etot - E0)/|E0|  |(L - L0)/L0|  |(M - M0)/M0|  \n",
       "0      0.000000e+00   0.000000e+00            0.0  \n",
       "1      4.783255e-16   1.101664e-11            0.0  "
      ]
     },
     "execution_count": 6,
     "metadata": {},
     "output_type": "execute_result"
    }
   ],
   "source": [
    "egy"
   ]
  },
  {
   "cell_type": "code",
   "execution_count": null,
   "metadata": {},
   "outputs": [],
   "source": []
  }
 ],
 "metadata": {
  "kernelspec": {
   "display_name": "Python 3",
   "language": "python",
   "name": "python3"
  },
  "language_info": {
   "codemirror_mode": {
    "name": "ipython",
    "version": 3
   },
   "file_extension": ".py",
   "mimetype": "text/x-python",
   "name": "python",
   "nbconvert_exporter": "python",
   "pygments_lexer": "ipython3",
   "version": "3.8.5"
  }
 },
 "nbformat": 4,
 "nbformat_minor": 4
}

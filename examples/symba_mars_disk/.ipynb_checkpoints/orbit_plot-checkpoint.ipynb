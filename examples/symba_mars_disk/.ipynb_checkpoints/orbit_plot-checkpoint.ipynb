{
 "cells": [
  {
   "cell_type": "code",
   "execution_count": 1,
   "metadata": {},
   "outputs": [],
   "source": [
    "import swiftestio as swio\n",
    "import numpy as np\n",
    "import matplotlib.pyplot as plt"
   ]
  },
  {
   "cell_type": "code",
   "execution_count": 2,
   "metadata": {},
   "outputs": [],
   "source": [
    "def makemovie(ds):\n",
    "    radscale = 20\n",
    "    RMars = 3389500.0\n",
    "    # set up the figure\n",
    "    fig = plt.figure(figsize=(16, 9))\n",
    "    canvas_width, canvas_height = fig.canvas.get_width_height()\n",
    "\n",
    "    def data_stream(frame):\n",
    "        while True:\n",
    "            d = ds.isel(time=frame)\n",
    "            ds['mass'] = ds['mass'] / config['GU']\n",
    "            ds['radmarker'] = ds['radius'].fillna(0)\n",
    "            ds['radmarker'] = ds['radmarker'] / ds['radmarker'].max()\n",
    "            mass = d['mass'].values\n",
    "            radius = d['radius'].values / radscale\n",
    "            a = d['a'].values / RMars\n",
    "            e = d['e'].values\n",
    "            name = d['id'].values\n",
    "            npl = d['npl'].values\n",
    "            radmarker = d['radmarker'] * radscale\n",
    "            t = ds.coords['time'].values[frame]\n",
    "            yield t, name, mass, radius, npl, np.c_[a, e], radmarker\n",
    "\n",
    "    def update(frame):\n",
    "        \"\"\"Update the scatter plot.\"\"\"\n",
    "        t, name, mass, radius, npl, pl, radmarker = next(data_stream(frame))\n",
    "\n",
    "        title.set_text(f'Time = ${t / 24 / 3600:4.1f}$ days with ${npl:4.0f}$ particles')\n",
    "\n",
    "        # We need to return the updated artist for FuncAnimation to draw..\n",
    "        # Note that it expects a sequence of artists, thus the trailing comma.\n",
    "        scat.set_sizes(radmarker)\n",
    "        scat.set_offsets(pl)\n",
    "        scat.set_facecolor('red')\n",
    "\n",
    "        return scat, title,\n",
    "\n",
    "    # First frame\n",
    "    \"\"\"Initial drawing of the scatter plot.\"\"\"\n",
    "    t, name, mass, radius, npl, pl, radmarker = next(data_stream(0))\n",
    "\n",
    "    ax = plt.axes(xlim=(xmin, xmax), ylim=(ymin, ymax))\n",
    "    ax.margins(x=10, y=1)\n",
    "    ax.set_xlabel('Semi Major Axis ($R_{Mars}$)', fontsize='16', labelpad=1)\n",
    "    ax.set_ylabel('Eccentricity', fontsize='16', labelpad=1)\n",
    "    ax.set_yscale('log')\n",
    "\n",
    "    title = ax.text(0.50, 1.05, \"\", bbox={'facecolor': 'w', 'alpha': 0.5, 'pad': 5}, transform=ax.transAxes,\n",
    "                    ha=\"center\")\n",
    "\n",
    "    title.set_text(f'Time = ${t / 24 / 3600:4.1f}$ days with ${npl:f}$ particles')\n",
    "    scat = ax.scatter(pl[:, 0], pl[:, 1], marker='o', s=radmarker, c='red', alpha=0.25)  # , vmin = 1000, vmax = 3000)\n",
    "\n",
    "    # Open an ffmpeg process\n",
    "    outf = 'aescatter.mp4'\n",
    "    cmdstring = ('ffmpeg',\n",
    "                 '-y', '-r', '1',  # overwrite, 1fps\n",
    "                 '-s', '%dx%d' % (canvas_width, canvas_height),  # size of image string\n",
    "                 '-pix_fmt', 'argb',  # format\n",
    "                 '-f', 'rawvideo', '-i', '-',  # tell ffmpeg to expect raw video from the pipe\n",
    "                 '-vcodec', 'mpeg4', outf)  # output encoding\n",
    "    p = subprocess.Popen(cmdstring, stdin=subprocess.PIPE)\n",
    "\n",
    "    # Draw frames and write to the pipe\n",
    "    for frame in range(nframes):\n",
    "        print(f'Generating frame {frame} of {nframes}')\n",
    "        # draw the frame\n",
    "        scat, title, = update(frame)\n",
    "        fig.canvas.draw()\n",
    "\n",
    "        # extract the image as an ARGB string\n",
    "        string = fig.canvas.tostring_argb()\n",
    "\n",
    "        # write to pipe\n",
    "        p.stdin.write(string)\n",
    "\n",
    "    # Finish up\n",
    "    p.communicate()"
   ]
  },
  {
   "cell_type": "code",
   "execution_count": 3,
   "metadata": {},
   "outputs": [
    {
     "name": "stdout",
     "output_type": "stream",
     "text": [
      "Reading Swiftest file config_file_name\n"
     ]
    },
    {
     "ename": "FileNotFoundError",
     "evalue": "[Errno 2] No such file or directory: 'config_file_name'",
     "output_type": "error",
     "traceback": [
      "\u001b[0;31m---------------------------------------------------------------------------\u001b[0m",
      "\u001b[0;31mFileNotFoundError\u001b[0m                         Traceback (most recent call last)",
      "\u001b[0;32m<ipython-input-3-0bc72d9ec39e>\u001b[0m in \u001b[0;36m<module>\u001b[0;34m\u001b[0m\n\u001b[0;32m----> 1\u001b[0;31m \u001b[0mconfig\u001b[0m \u001b[0;34m=\u001b[0m \u001b[0mswio\u001b[0m\u001b[0;34m.\u001b[0m\u001b[0mread_swiftest_config\u001b[0m\u001b[0;34m(\u001b[0m\u001b[0;34m\"config_file_name\"\u001b[0m\u001b[0;34m)\u001b[0m\u001b[0;34m\u001b[0m\u001b[0;34m\u001b[0m\u001b[0m\n\u001b[0m",
      "\u001b[0;32m~/git/swiftest/python/swiftestio/swiftestio.py\u001b[0m in \u001b[0;36mread_swiftest_config\u001b[0;34m(config_file_name)\u001b[0m\n\u001b[1;32m    165\u001b[0m     \u001b[0;31m# Read config.in file\u001b[0m\u001b[0;34m\u001b[0m\u001b[0;34m\u001b[0m\u001b[0;34m\u001b[0m\u001b[0m\n\u001b[1;32m    166\u001b[0m     \u001b[0mprint\u001b[0m\u001b[0;34m(\u001b[0m\u001b[0;34mf'Reading Swiftest file {config_file_name}'\u001b[0m \u001b[0;34m)\u001b[0m\u001b[0;34m\u001b[0m\u001b[0;34m\u001b[0m\u001b[0m\n\u001b[0;32m--> 167\u001b[0;31m     \u001b[0mf\u001b[0m \u001b[0;34m=\u001b[0m \u001b[0mopen\u001b[0m\u001b[0;34m(\u001b[0m\u001b[0mconfig_file_name\u001b[0m\u001b[0;34m,\u001b[0m \u001b[0;34m'r'\u001b[0m\u001b[0;34m)\u001b[0m\u001b[0;34m\u001b[0m\u001b[0;34m\u001b[0m\u001b[0m\n\u001b[0m\u001b[1;32m    168\u001b[0m     \u001b[0mswiftestlines\u001b[0m \u001b[0;34m=\u001b[0m \u001b[0mf\u001b[0m\u001b[0;34m.\u001b[0m\u001b[0mreadlines\u001b[0m\u001b[0;34m(\u001b[0m\u001b[0;34m)\u001b[0m\u001b[0;34m\u001b[0m\u001b[0;34m\u001b[0m\u001b[0m\n\u001b[1;32m    169\u001b[0m     \u001b[0mf\u001b[0m\u001b[0;34m.\u001b[0m\u001b[0mclose\u001b[0m\u001b[0;34m(\u001b[0m\u001b[0;34m)\u001b[0m\u001b[0;34m\u001b[0m\u001b[0;34m\u001b[0m\u001b[0m\n",
      "\u001b[0;31mFileNotFoundError\u001b[0m: [Errno 2] No such file or directory: 'config_file_name'"
     ]
    }
   ],
   "source": [
    "config = swio.read_swiftest_config(\"param.in\")"
   ]
  },
  {
   "cell_type": "code",
   "execution_count": null,
   "metadata": {},
   "outputs": [],
   "source": [
    "marsdisk = swio.swiftest2xr(config)"
   ]
  },
  {
   "cell_type": "code",
   "execution_count": null,
   "metadata": {},
   "outputs": [],
   "source": [
    "makemovie(marsdisk)"
   ]
  },
  {
   "cell_type": "code",
   "execution_count": null,
   "metadata": {},
   "outputs": [],
   "source": []
  }
 ],
 "metadata": {
  "kernelspec": {
   "display_name": "Python 3",
   "language": "python",
   "name": "python3"
  },
  "language_info": {
   "codemirror_mode": {
    "name": "ipython",
    "version": 3
   },
   "file_extension": ".py",
   "mimetype": "text/x-python",
   "name": "python",
   "nbconvert_exporter": "python",
   "pygments_lexer": "ipython3",
   "version": "3.8.6"
  }
 },
 "nbformat": 4,
 "nbformat_minor": 4
}

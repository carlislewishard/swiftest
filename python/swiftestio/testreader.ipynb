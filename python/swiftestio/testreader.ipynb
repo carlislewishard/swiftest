{
 "cells": [
  {
   "cell_type": "code",
   "execution_count": 1,
   "metadata": {},
   "outputs": [],
   "source": [
    "import numpy as np\n",
    "import swiftestio as swio\n",
    "import matplotlib.pyplot as plt\n",
    "import timeit\n",
    "import xarray as xr\n",
    "from scipy.io import FortranFile\n",
    "import pandas as pd\n",
    "from dask.distributed import Client"
   ]
  },
  {
   "cell_type": "code",
   "execution_count": 2,
   "metadata": {},
   "outputs": [],
   "source": [
    "workingdir = '/Users/daminton/work/Projects/Swiftest/Elliott_Performance/high_high_1500_1/'"
   ]
  },
  {
   "cell_type": "code",
   "execution_count": 3,
   "metadata": {},
   "outputs": [
    {
     "name": "stdout",
     "output_type": "stream",
     "text": [
      "Reading Swiftest file /Users/daminton/work/Projects/Swiftest/Elliott_Performance/high_high_1500_1/param.in\n"
     ]
    }
   ],
   "source": [
    "config_file_name = workingdir + \"param.in\"\n",
    "config = {}\n",
    "config = swio.read_swiftest_config(config_file_name)\n",
    "config['BIN_OUT'] = workingdir + config['BIN_OUT']\n",
    "dims  = ['time','id', 'vec']"
   ]
  },
  {
   "cell_type": "code",
   "execution_count": 4,
   "metadata": {},
   "outputs": [],
   "source": [
    "dsframes =[]\n",
    "pl = []\n",
    "tp = []\n",
    "nplarr = []\n",
    "ntparr = []\n",
    "with FortranFile(config['BIN_OUT'], 'r') as f:\n",
    "    for t, npl, plid, pvec, plab, \\\n",
    "           ntp, tpid, tvec, tlab in swio.swiftest_stream(f, config):\n",
    "        #print(f'Time = {t[0]}')\n",
    "        plframe = np.expand_dims(pvec, axis=0)\n",
    "        tpframe = np.expand_dims(tvec, axis=0)\n",
    "        bd = []\n",
    "        \n",
    "        #Create xarray DataArrays out of each body type\n",
    "        if npl[0] > 0:\n",
    "            plxr = xr.DataArray(plframe, dims = dims, coords = {'time' : t, 'id' : plid, 'vec' : plab})\n",
    "            bd.append(plxr)\n",
    "        if ntp[0] > 0:\n",
    "            tpxr = xr.DataArray(tpframe, dims = dims, coords = {'time' : t, 'id' : tpid, 'vec' : tlab})\n",
    "            bd.append(tpxr)\n",
    "        bdxr = xr.concat(bd, dim='time')\n",
    "        #bdxr = bdxr.assign_coords({'npl' : npl[0], 'ntp' : ntp[0]})\n",
    "        bdxr = bdxr.to_dataset(dim = 'vec')\n",
    "        bdxr = bdxr.assign(npl=npl[0])\n",
    "        bdxr = bdxr.assign(ntp=ntp[0])\n",
    "        bdxr = bdxr.chunk()\n",
    "        dsframes.append(bdxr)"
   ]
  },
  {
   "cell_type": "code",
   "execution_count": 5,
   "metadata": {},
   "outputs": [],
   "source": [
    "ds = xr.concat(dsframes, dim='time')"
   ]
  },
  {
   "cell_type": "code",
   "execution_count": 10,
   "metadata": {},
   "outputs": [],
   "source": [
    "workingdir = \"/Volumes/Minton Data Archive/work archive/Projects/Swiftest/Pouplin-Mars-Disk/high_high_1500_1/savestate2/\"\n",
    "filehead = workingdir + 'bin'\n",
    "ds = xr.open_mfdataset(f'{filehead}*.nc', combine='by_coords',concat_dim='time',parallel=False)"
   ]
  },
  {
   "cell_type": "code",
   "execution_count": 13,
   "metadata": {},
   "outputs": [
    {
     "data": {
      "text/plain": [
       "[<matplotlib.lines.Line2D at 0x7fb748c842e8>]"
      ]
     },
     "execution_count": 13,
     "metadata": {},
     "output_type": "execute_result"
    },
    {
     "data": {
      "image/png": "[encoded data removed]",
      "text/plain": [
       "<Figure size 432x288 with 1 Axes>"
      ]
     },
     "metadata": {
      "needs_background": "light"
     },
     "output_type": "display_data"
    }
   ],
   "source": []
  },
  {
   "cell_type": "code",
   "execution_count": null,
   "metadata": {},
   "outputs": [],
   "source": []
  }
 ],
 "metadata": {
  "kernelspec": {
   "display_name": "Python 3",
   "language": "python",
   "name": "python3"
  },
  "language_info": {
   "codemirror_mode": {
    "name": "ipython",
    "version": 3
   },
   "file_extension": ".py",
   "mimetype": "text/x-python",
   "name": "python",
   "nbconvert_exporter": "python",
   "pygments_lexer": "ipython3",
   "version": "3.7.3"
  }
 },
 "nbformat": 4,
 "nbformat_minor": 4
}
